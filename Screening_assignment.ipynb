{
 "cells": [
  {
   "cell_type": "markdown",
   "metadata": {},
   "source": [
    "## Q1\n",
    "####  Create a function in python to read the text file and replace specific content of the file.\n"
   ]
  },
  {
   "cell_type": "code",
   "execution_count": 38,
   "metadata": {},
   "outputs": [],
   "source": [
    "def text_replacer(file_path, old_text, new_text):\n",
    "    \"\"\"\n",
    "    Replaces all occurrences of old_text with new_text in input file.\n",
    "    \n",
    "    file_path - string : File path\n",
    "    old_text - string : Text which you want to replace\n",
    "    new_text - string : New text which you wants to place.\n",
    "    \n",
    "    \"\"\"\n",
    "    try:\n",
    "        with open(file_path, 'r') as file:\n",
    "            file_text = file.read()\n",
    "        file_text = file_text.replace(old_text, new_text)\n",
    "        with open(file_path, 'w') as file:\n",
    "            file.write(file_text)\n",
    "            \n",
    "    except Exception as error:\n",
    "        print(\"Error : \",error)\n",
    "        \n",
    "\"\"\"\n",
    "        example :\n",
    "    \n",
    "you have a file named by example.txt and the data in file is : \n",
    "    \n",
    "    Python is easy language\n",
    "    \n",
    "\n",
    "you wants to replace pythonm by R.\n",
    "\n",
    "then you use text_replacer function as ;\n",
    "\n",
    "\n",
    "text_replacer(\"example.txt\" , \"Python\" , \"R\")\n",
    "\n",
    "\n",
    "output :\n",
    "\n",
    "R is easy lang\n",
    "\n",
    "\n",
    "\"\"\"\n",
    "\n",
    "    "
   ]
  },
  {
   "cell_type": "markdown",
   "metadata": {},
   "source": [
    "### Q2\n",
    "#### Demonstrate use of abstract class, multiple inheritance and decorator in  python using examples."
   ]
  },
  {
   "cell_type": "markdown",
   "metadata": {},
   "source": [
    "* Abstract Class\n",
    "\n",
    "An abstract method is a method that we declare but we do not implement it,  also we can not create class instance for abstract class. In python in creating abstract class we have to use ABC module. When creating abstract class we have to inherite `ABC` class import from `abc` and `abstractmethod`, In order to create abstract methode we have to decorate the methode with `@abstractmethod` just above the metode."
   ]
  },
  {
   "cell_type": "raw",
   "metadata": {},
   "source": [
    "#Abract class:\n",
    "\n",
    "    \n",
    "1. In object-oriented programming, an abstract class is a class that cannot be instantiated. However, you can create classes that inherit from an abstract class.\n",
    "\n",
    "2. we use an abstract class to create a blueprint for other classes.\n",
    "\n",
    "3. An abstract method is an method without an implementation. An abstract class may or may not include abstract methods.\n",
    "\n",
    "\n",
    "Python doesn’t directly support abstract classes. But it does offer a module that allows you to define abstract classes.\n",
    "To define an abstract class, you use the abc (abstract base class) module.\n",
    "\n",
    "    "
   ]
  },
  {
   "cell_type": "code",
   "execution_count": 39,
   "metadata": {},
   "outputs": [],
   "source": [
    "# NOw creating abstract class called Bank which has two abstract methode \n",
    "from abc import ABC, abstractmethod\n",
    "\n",
    "class Bank(ABC):\n",
    "    # creating abstract methodes\n",
    "    @abstractmethod\n",
    "    def interest(self):\n",
    "        pass\n",
    "    \n",
    "    @abstractmethod\n",
    "    def Min_baalance(self):\n",
    "        pass"
   ]
  },
  {
   "cell_type": "code",
   "execution_count": 40,
   "metadata": {},
   "outputs": [
    {
     "ename": "TypeError",
     "evalue": "Can't instantiate abstract class Bank with abstract methods Min_baalance, interest",
     "output_type": "error",
     "traceback": [
      "\u001b[1;31m---------------------------------------------------------------------------\u001b[0m",
      "\u001b[1;31mTypeError\u001b[0m                                 Traceback (most recent call last)",
      "\u001b[1;32m<ipython-input-40-d1904c9645eb>\u001b[0m in \u001b[0;36m<module>\u001b[1;34m\u001b[0m\n\u001b[0;32m      1\u001b[0m \u001b[1;31m# as can not create instance of abstract class the following code will trough error\u001b[0m\u001b[1;33m\u001b[0m\u001b[1;33m\u001b[0m\u001b[1;33m\u001b[0m\u001b[0m\n\u001b[1;32m----> 2\u001b[1;33m \u001b[0mabc\u001b[0m \u001b[1;33m=\u001b[0m \u001b[0mBank\u001b[0m\u001b[1;33m(\u001b[0m\u001b[1;33m)\u001b[0m\u001b[1;33m\u001b[0m\u001b[1;33m\u001b[0m\u001b[0m\n\u001b[0m",
      "\u001b[1;31mTypeError\u001b[0m: Can't instantiate abstract class Bank with abstract methods Min_baalance, interest"
     ]
    }
   ],
   "source": [
    "# as can not create instance of abstract class the following code will trough error\n",
    "abc = Bank()"
   ]
  },
  {
   "cell_type": "code",
   "execution_count": 41,
   "metadata": {},
   "outputs": [],
   "source": [
    "# Creating separate class inherite the abstract class\n",
    "class SBI(Bank):\n",
    "    def interest(self):\n",
    "        print(\"SBI interest rate is 4 %\")\n",
    "        \n",
    "    def Min_baalance(self):\n",
    "        print(\"Min balance should be 500\")\n",
    "        \n",
    "    def Balance(self):\n",
    "        print(\"You balance is 10234\")\n",
    "        \n",
    "class HDFC(Bank):\n",
    "    def interest(self):\n",
    "        print(\"HDFC interest rate is 3.4 %\")\n",
    "        \n",
    "    def Min_baalance(self):\n",
    "        print(\"Min balance should be 10000\")\n",
    "        \n",
    "    def Balance(self):\n",
    "        print(\"You balance is 45436.54\")\n",
    "        \n",
    "class AXIS(Bank):\n",
    "    def interest(self):\n",
    "        print(\"AXIS interest rate is 4.4 %\")\n",
    "        \n",
    "    def Min_baalance(self):\n",
    "        print(\"Min balance should be 1000\")\n",
    "        \n",
    "    def Balance(self):\n",
    "        print(\"You balance is 10000\")"
   ]
  },
  {
   "cell_type": "code",
   "execution_count": 42,
   "metadata": {},
   "outputs": [],
   "source": [
    "# Creating class instances\n",
    "sbi = SBI()\n",
    "hdfc = HDFC()\n",
    "axis = AXIS()\n"
   ]
  },
  {
   "cell_type": "code",
   "execution_count": 43,
   "metadata": {},
   "outputs": [
    {
     "name": "stdout",
     "output_type": "stream",
     "text": [
      " SBI:-\n",
      "You balance is 10234\n",
      "SBI interest rate is 4 %\n",
      "Min balance should be 500\n",
      "\n",
      " HDFC:-\n",
      "You balance is 45436.54\n",
      "HDFC interest rate is 3.4 %\n",
      "Min balance should be 10000\n",
      "\n",
      " AXIS:-\n",
      "You balance is 10000\n",
      "AXIS interest rate is 4.4 %\n",
      "Min balance should be 1000\n"
     ]
    }
   ],
   "source": [
    "# calling methods\n",
    "\n",
    "print(\" SBI:-\")\n",
    "sbi.Balance()\n",
    "sbi.interest()\n",
    "sbi.Min_baalance()\n",
    "\n",
    "print(\"\\n\",\"HDFC:-\")\n",
    "\n",
    "hdfc.Balance()\n",
    "hdfc.interest()\n",
    "hdfc.Min_baalance()\n",
    "\n",
    "print(\"\\n\",\"AXIS:-\")\n",
    "\n",
    "axis.Balance()\n",
    "axis.interest()\n",
    "axis.Min_baalance()\n",
    "\n"
   ]
  },
  {
   "cell_type": "code",
   "execution_count": null,
   "metadata": {},
   "outputs": [],
   "source": []
  },
  {
   "cell_type": "markdown",
   "metadata": {},
   "source": [
    "### Multiple Inheritance"
   ]
  },
  {
   "cell_type": "markdown",
   "metadata": {},
   "source": [
    "In multiple inheritance we can drived from more than one classes. all the methods and feature from parents classes can be inheriate in derived class. Just like we inheriate single class by passing the parent class name inside parenthesis when child class is creating, we can pass multiple parent class separiting by comma."
   ]
  },
  {
   "cell_type": "code",
   "execution_count": 44,
   "metadata": {},
   "outputs": [
    {
     "name": "stdout",
     "output_type": "stream",
     "text": [
      "Name: Jake, Pay: 250000, Exp: 5\n"
     ]
    }
   ],
   "source": [
    "# Parent class 1\n",
    "class TeamMember(object):                   \n",
    "    def __init__(self, name, uid): \n",
    "        self.name = name \n",
    "        self.uid = uid \n",
    "\n",
    "# Parent class 2\n",
    "class Worker(object):\n",
    "    def __init__(self, pay, jobtitle): \n",
    "        self.pay = pay\n",
    "        self.jobtitle = jobtitle \n",
    "\n",
    "# Deriving a child class from the two parent classes\n",
    "class TeamLeader(TeamMember, Worker):\n",
    "    def __init__(self, name, uid, pay, jobtitle, exp): \n",
    "        self.exp = exp\n",
    "        TeamMember.__init__(self, name, uid)\n",
    "        Worker.__init__(self, pay, jobtitle)\n",
    "        print(\"Name: {}, Pay: {}, Exp: {}\".format(self.name, self.pay, self.exp))\n",
    "\n",
    "TL = TeamLeader('Jake', 10001, 250000, 'Scrum Master', 5)"
   ]
  },
  {
   "cell_type": "markdown",
   "metadata": {},
   "source": [
    "# Decorator"
   ]
  },
  {
   "cell_type": "markdown",
   "metadata": {},
   "source": [
    "A decorator is a design pattern in Python that allows a user to add new functionality to an existing object without modifying its structure. Decorators are usually called before the definition of a function you want to decorate."
   ]
  },
  {
   "cell_type": "code",
   "execution_count": 45,
   "metadata": {},
   "outputs": [
    {
     "name": "stdout",
     "output_type": "stream",
     "text": [
      "This is printed before the function is called\n",
      "Hello! The function is executing\n",
      "This is printed after the function is called\n"
     ]
    }
   ],
   "source": [
    "# creatig a function for use as decorator\n",
    "\n",
    "def decorator(func):\n",
    "    def wrapper():\n",
    "        print(\"This is printed before the function is called\")\n",
    "        func()\n",
    "        print(\"This is printed after the function is called\")\n",
    "    return wrapper\n",
    "\n",
    "@decorator\n",
    "def say_hello():\n",
    "  print(\"Hello! The function is executing\")\n",
    "\n",
    "\n",
    "say_hello()"
   ]
  },
  {
   "cell_type": "code",
   "execution_count": null,
   "metadata": {},
   "outputs": [],
   "source": []
  },
  {
   "cell_type": "code",
   "execution_count": null,
   "metadata": {},
   "outputs": [],
   "source": []
  },
  {
   "cell_type": "code",
   "execution_count": null,
   "metadata": {},
   "outputs": [],
   "source": []
  }
 ],
 "metadata": {
  "kernelspec": {
   "display_name": "Python 3",
   "language": "python",
   "name": "python3"
  },
  "language_info": {
   "codemirror_mode": {
    "name": "ipython",
    "version": 3
   },
   "file_extension": ".py",
   "mimetype": "text/x-python",
   "name": "python",
   "nbconvert_exporter": "python",
   "pygments_lexer": "ipython3",
   "version": "3.8.5"
  }
 },
 "nbformat": 4,
 "nbformat_minor": 4
}
